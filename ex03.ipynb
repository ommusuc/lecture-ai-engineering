{
  "cells": [
    {
      "cell_type": "markdown",
      "id": "13fbe09d",
      "metadata": {
        "id": "13fbe09d"
      },
      "source": [
        "# Assignment for"
      ]
    },
    {
      "cell_type": "code",
      "execution_count": 3,
      "id": "1013c07b",
      "metadata": {
        "colab": {
          "base_uri": "https://localhost:8080/",
          "height": 1000
        },
        "id": "1013c07b",
        "outputId": "51c506a4-41f2-4081-d53b-ed4a5f9b6147"
      },
      "outputs": [
        {
          "output_type": "stream",
          "name": "stdout",
          "text": [
            "\n",
            "7-Zip [64] 16.02 : Copyright (c) 1999-2016 Igor Pavlov : 2016-05-21\n",
            "p7zip Version 16.02 (locale=en_US.UTF-8,Utf16=on,HugeFiles=on,64 bits,2 CPUs Intel(R) Xeon(R) CPU @ 2.20GHz (406F0),ASM,AES-NI)\n",
            "\n",
            "Scanning the drive for archives:\n",
            "1 file, 1458 bytes (2 KiB)\n",
            "\n",
            "Extracting archive: chap4lib.7z\n",
            "--\n",
            "Path = chap4lib.7z\n",
            "Type = 7z\n",
            "Physical Size = 1458\n",
            "Headers Size = 130\n",
            "Method = LZMA2:6k\n",
            "Solid = -\n",
            "Blocks = 1\n",
            "\n",
            "\n",
            "Would you like to replace the existing file:\n",
            "  Path:     ./chap4lib.py\n",
            "  Size:     5251 bytes (6 KiB)\n",
            "  Modified: 2025-05-25 16:46:08\n",
            "with the file from archive:\n",
            "  Path:     chap4lib.py\n",
            "  Size:     5251 bytes (6 KiB)\n",
            "  Modified: 2025-05-25 16:46:08\n",
            "? (Y)es / (N)o / (A)lways / (S)kip all / A(u)to rename all / (Q)uit? "
          ]
        },
        {
          "output_type": "stream",
          "name": "stderr",
          "text": [
            "--2025-06-04 06:31:02--  https://docs.google.com/uc?export=download&id=19oqo3xnLU8uim52ponISKpWnrmMAZGVQ\n",
            "Resolving docs.google.com (docs.google.com)... 173.194.206.139, 173.194.206.138, 173.194.206.113, ...\n",
            "Connecting to docs.google.com (docs.google.com)|173.194.206.139|:443... connected.\n",
            "HTTP request sent, awaiting response... 303 See Other\n",
            "Location: https://drive.usercontent.google.com/download?id=19oqo3xnLU8uim52ponISKpWnrmMAZGVQ&export=download [following]\n",
            "--2025-06-04 06:31:02--  https://drive.usercontent.google.com/download?id=19oqo3xnLU8uim52ponISKpWnrmMAZGVQ&export=download\n",
            "Resolving drive.usercontent.google.com (drive.usercontent.google.com)... 173.194.193.132, 2607:f8b0:4001:c0f::84\n",
            "Connecting to drive.usercontent.google.com (drive.usercontent.google.com)|173.194.193.132|:443... connected.\n",
            "HTTP request sent, awaiting response... 200 OK\n",
            "Length: 1458 (1.4K) [application/octet-stream]\n",
            "Saving to: ‘chap4lib.7z’\n",
            "\n",
            "     0K .                                                     100% 14.9M=0s\n",
            "\n",
            "2025-06-04 06:31:04 (14.9 MB/s) - ‘chap4lib.7z’ saved [1458/1458]\n",
            "\n",
            "terminate called after throwing an instance of 'char const*'\n",
            "bash: line 2: 14727 Aborted                 (core dumped) 7z x chap4lib.7z\n"
          ]
        },
        {
          "output_type": "error",
          "ename": "CalledProcessError",
          "evalue": "Command 'b'wget --no-check-certificate -O \"chap4lib.7z\" \"https://docs.google.com/uc?export=download&id=19oqo3xnLU8uim52ponISKpWnrmMAZGVQ\"\\n7z x chap4lib.7z\\n'' returned non-zero exit status 134.",
          "traceback": [
            "\u001b[0;31m---------------------------------------------------------------------------\u001b[0m",
            "\u001b[0;31mCalledProcessError\u001b[0m                        Traceback (most recent call last)",
            "\u001b[0;32m<ipython-input-3-6fb8d535572c>\u001b[0m in \u001b[0;36m<cell line: 0>\u001b[0;34m()\u001b[0m\n\u001b[0;32m----> 1\u001b[0;31m \u001b[0mget_ipython\u001b[0m\u001b[0;34m(\u001b[0m\u001b[0;34m)\u001b[0m\u001b[0;34m.\u001b[0m\u001b[0mrun_cell_magic\u001b[0m\u001b[0;34m(\u001b[0m\u001b[0;34m'bash'\u001b[0m\u001b[0;34m,\u001b[0m \u001b[0;34m''\u001b[0m\u001b[0;34m,\u001b[0m \u001b[0;34m'wget --no-check-certificate -O \"chap4lib.7z\" \"https://docs.google.com/uc?export=download&id=19oqo3xnLU8uim52ponISKpWnrmMAZGVQ\"\\n7z x chap4lib.7z\\n'\u001b[0m\u001b[0;34m)\u001b[0m\u001b[0;34m\u001b[0m\u001b[0;34m\u001b[0m\u001b[0m\n\u001b[0m",
            "\u001b[0;32m/usr/local/lib/python3.11/dist-packages/google/colab/_shell.py\u001b[0m in \u001b[0;36mrun_cell_magic\u001b[0;34m(self, magic_name, line, cell)\u001b[0m\n\u001b[1;32m    356\u001b[0m     \u001b[0;32mif\u001b[0m \u001b[0mline\u001b[0m \u001b[0;32mand\u001b[0m \u001b[0;32mnot\u001b[0m \u001b[0mcell\u001b[0m\u001b[0;34m:\u001b[0m\u001b[0;34m\u001b[0m\u001b[0;34m\u001b[0m\u001b[0m\n\u001b[1;32m    357\u001b[0m       \u001b[0mcell\u001b[0m \u001b[0;34m=\u001b[0m \u001b[0;34m' '\u001b[0m\u001b[0;34m\u001b[0m\u001b[0;34m\u001b[0m\u001b[0m\n\u001b[0;32m--> 358\u001b[0;31m     \u001b[0;32mreturn\u001b[0m \u001b[0msuper\u001b[0m\u001b[0;34m(\u001b[0m\u001b[0;34m)\u001b[0m\u001b[0;34m.\u001b[0m\u001b[0mrun_cell_magic\u001b[0m\u001b[0;34m(\u001b[0m\u001b[0mmagic_name\u001b[0m\u001b[0;34m,\u001b[0m \u001b[0mline\u001b[0m\u001b[0;34m,\u001b[0m \u001b[0mcell\u001b[0m\u001b[0;34m)\u001b[0m\u001b[0;34m\u001b[0m\u001b[0;34m\u001b[0m\u001b[0m\n\u001b[0m\u001b[1;32m    359\u001b[0m \u001b[0;34m\u001b[0m\u001b[0m\n\u001b[1;32m    360\u001b[0m \u001b[0;34m\u001b[0m\u001b[0m\n",
            "\u001b[0;32m/usr/local/lib/python3.11/dist-packages/IPython/core/interactiveshell.py\u001b[0m in \u001b[0;36mrun_cell_magic\u001b[0;34m(self, magic_name, line, cell)\u001b[0m\n\u001b[1;32m   2471\u001b[0m             \u001b[0;32mwith\u001b[0m \u001b[0mself\u001b[0m\u001b[0;34m.\u001b[0m\u001b[0mbuiltin_trap\u001b[0m\u001b[0;34m:\u001b[0m\u001b[0;34m\u001b[0m\u001b[0;34m\u001b[0m\u001b[0m\n\u001b[1;32m   2472\u001b[0m                 \u001b[0margs\u001b[0m \u001b[0;34m=\u001b[0m \u001b[0;34m(\u001b[0m\u001b[0mmagic_arg_s\u001b[0m\u001b[0;34m,\u001b[0m \u001b[0mcell\u001b[0m\u001b[0;34m)\u001b[0m\u001b[0;34m\u001b[0m\u001b[0;34m\u001b[0m\u001b[0m\n\u001b[0;32m-> 2473\u001b[0;31m                 \u001b[0mresult\u001b[0m \u001b[0;34m=\u001b[0m \u001b[0mfn\u001b[0m\u001b[0;34m(\u001b[0m\u001b[0;34m*\u001b[0m\u001b[0margs\u001b[0m\u001b[0;34m,\u001b[0m \u001b[0;34m**\u001b[0m\u001b[0mkwargs\u001b[0m\u001b[0;34m)\u001b[0m\u001b[0;34m\u001b[0m\u001b[0;34m\u001b[0m\u001b[0m\n\u001b[0m\u001b[1;32m   2474\u001b[0m             \u001b[0;32mreturn\u001b[0m \u001b[0mresult\u001b[0m\u001b[0;34m\u001b[0m\u001b[0;34m\u001b[0m\u001b[0m\n\u001b[1;32m   2475\u001b[0m \u001b[0;34m\u001b[0m\u001b[0m\n",
            "\u001b[0;32m/usr/local/lib/python3.11/dist-packages/IPython/core/magics/script.py\u001b[0m in \u001b[0;36mnamed_script_magic\u001b[0;34m(line, cell)\u001b[0m\n\u001b[1;32m    140\u001b[0m             \u001b[0;32melse\u001b[0m\u001b[0;34m:\u001b[0m\u001b[0;34m\u001b[0m\u001b[0;34m\u001b[0m\u001b[0m\n\u001b[1;32m    141\u001b[0m                 \u001b[0mline\u001b[0m \u001b[0;34m=\u001b[0m \u001b[0mscript\u001b[0m\u001b[0;34m\u001b[0m\u001b[0;34m\u001b[0m\u001b[0m\n\u001b[0;32m--> 142\u001b[0;31m             \u001b[0;32mreturn\u001b[0m \u001b[0mself\u001b[0m\u001b[0;34m.\u001b[0m\u001b[0mshebang\u001b[0m\u001b[0;34m(\u001b[0m\u001b[0mline\u001b[0m\u001b[0;34m,\u001b[0m \u001b[0mcell\u001b[0m\u001b[0;34m)\u001b[0m\u001b[0;34m\u001b[0m\u001b[0;34m\u001b[0m\u001b[0m\n\u001b[0m\u001b[1;32m    143\u001b[0m \u001b[0;34m\u001b[0m\u001b[0m\n\u001b[1;32m    144\u001b[0m         \u001b[0;31m# write a basic docstring:\u001b[0m\u001b[0;34m\u001b[0m\u001b[0;34m\u001b[0m\u001b[0m\n",
            "\u001b[0;32m<decorator-gen-103>\u001b[0m in \u001b[0;36mshebang\u001b[0;34m(self, line, cell)\u001b[0m\n",
            "\u001b[0;32m/usr/local/lib/python3.11/dist-packages/IPython/core/magic.py\u001b[0m in \u001b[0;36m<lambda>\u001b[0;34m(f, *a, **k)\u001b[0m\n\u001b[1;32m    185\u001b[0m     \u001b[0;31m# but it's overkill for just that one bit of state.\u001b[0m\u001b[0;34m\u001b[0m\u001b[0;34m\u001b[0m\u001b[0m\n\u001b[1;32m    186\u001b[0m     \u001b[0;32mdef\u001b[0m \u001b[0mmagic_deco\u001b[0m\u001b[0;34m(\u001b[0m\u001b[0marg\u001b[0m\u001b[0;34m)\u001b[0m\u001b[0;34m:\u001b[0m\u001b[0;34m\u001b[0m\u001b[0;34m\u001b[0m\u001b[0m\n\u001b[0;32m--> 187\u001b[0;31m         \u001b[0mcall\u001b[0m \u001b[0;34m=\u001b[0m \u001b[0;32mlambda\u001b[0m \u001b[0mf\u001b[0m\u001b[0;34m,\u001b[0m \u001b[0;34m*\u001b[0m\u001b[0ma\u001b[0m\u001b[0;34m,\u001b[0m \u001b[0;34m**\u001b[0m\u001b[0mk\u001b[0m\u001b[0;34m:\u001b[0m \u001b[0mf\u001b[0m\u001b[0;34m(\u001b[0m\u001b[0;34m*\u001b[0m\u001b[0ma\u001b[0m\u001b[0;34m,\u001b[0m \u001b[0;34m**\u001b[0m\u001b[0mk\u001b[0m\u001b[0;34m)\u001b[0m\u001b[0;34m\u001b[0m\u001b[0;34m\u001b[0m\u001b[0m\n\u001b[0m\u001b[1;32m    188\u001b[0m \u001b[0;34m\u001b[0m\u001b[0m\n\u001b[1;32m    189\u001b[0m         \u001b[0;32mif\u001b[0m \u001b[0mcallable\u001b[0m\u001b[0;34m(\u001b[0m\u001b[0marg\u001b[0m\u001b[0;34m)\u001b[0m\u001b[0;34m:\u001b[0m\u001b[0;34m\u001b[0m\u001b[0;34m\u001b[0m\u001b[0m\n",
            "\u001b[0;32m/usr/local/lib/python3.11/dist-packages/IPython/core/magics/script.py\u001b[0m in \u001b[0;36mshebang\u001b[0;34m(self, line, cell)\u001b[0m\n\u001b[1;32m    243\u001b[0m             \u001b[0msys\u001b[0m\u001b[0;34m.\u001b[0m\u001b[0mstderr\u001b[0m\u001b[0;34m.\u001b[0m\u001b[0mflush\u001b[0m\u001b[0;34m(\u001b[0m\u001b[0;34m)\u001b[0m\u001b[0;34m\u001b[0m\u001b[0;34m\u001b[0m\u001b[0m\n\u001b[1;32m    244\u001b[0m         \u001b[0;32mif\u001b[0m \u001b[0margs\u001b[0m\u001b[0;34m.\u001b[0m\u001b[0mraise_error\u001b[0m \u001b[0;32mand\u001b[0m \u001b[0mp\u001b[0m\u001b[0;34m.\u001b[0m\u001b[0mreturncode\u001b[0m\u001b[0;34m!=\u001b[0m\u001b[0;36m0\u001b[0m\u001b[0;34m:\u001b[0m\u001b[0;34m\u001b[0m\u001b[0;34m\u001b[0m\u001b[0m\n\u001b[0;32m--> 245\u001b[0;31m             \u001b[0;32mraise\u001b[0m \u001b[0mCalledProcessError\u001b[0m\u001b[0;34m(\u001b[0m\u001b[0mp\u001b[0m\u001b[0;34m.\u001b[0m\u001b[0mreturncode\u001b[0m\u001b[0;34m,\u001b[0m \u001b[0mcell\u001b[0m\u001b[0;34m,\u001b[0m \u001b[0moutput\u001b[0m\u001b[0;34m=\u001b[0m\u001b[0mout\u001b[0m\u001b[0;34m,\u001b[0m \u001b[0mstderr\u001b[0m\u001b[0;34m=\u001b[0m\u001b[0merr\u001b[0m\u001b[0;34m)\u001b[0m\u001b[0;34m\u001b[0m\u001b[0;34m\u001b[0m\u001b[0m\n\u001b[0m\u001b[1;32m    246\u001b[0m \u001b[0;34m\u001b[0m\u001b[0m\n\u001b[1;32m    247\u001b[0m     \u001b[0;32mdef\u001b[0m \u001b[0m_run_script\u001b[0m\u001b[0;34m(\u001b[0m\u001b[0mself\u001b[0m\u001b[0;34m,\u001b[0m \u001b[0mp\u001b[0m\u001b[0;34m,\u001b[0m \u001b[0mcell\u001b[0m\u001b[0;34m,\u001b[0m \u001b[0mto_close\u001b[0m\u001b[0;34m)\u001b[0m\u001b[0;34m:\u001b[0m\u001b[0;34m\u001b[0m\u001b[0;34m\u001b[0m\u001b[0m\n",
            "\u001b[0;31mCalledProcessError\u001b[0m: Command 'b'wget --no-check-certificate -O \"chap4lib.7z\" \"https://docs.google.com/uc?export=download&id=19oqo3xnLU8uim52ponISKpWnrmMAZGVQ\"\\n7z x chap4lib.7z\\n'' returned non-zero exit status 134."
          ]
        }
      ],
      "source": [
        "%%bash\n",
        "wget --no-check-certificate -O \"chap4lib.7z\" \"https://docs.google.com/uc?export=download&id=19oqo3xnLU8uim52ponISKpWnrmMAZGVQ\"\n",
        "7z x chap4lib.7z"
      ]
    },
    {
      "cell_type": "code",
      "source": [
        "import typing\n",
        "T = typing.TypeVar('T')\n"
      ],
      "metadata": {
        "id": "vagytX54o-nu"
      },
      "id": "vagytX54o-nu",
      "execution_count": 9,
      "outputs": []
    },
    {
      "cell_type": "code",
      "execution_count": 10,
      "id": "768865d6",
      "metadata": {
        "colab": {
          "base_uri": "https://localhost:8080/",
          "height": 245
        },
        "id": "768865d6",
        "outputId": "162b0776-1fa3-4f9d-f8a4-5dc3d45c861b"
      },
      "outputs": [
        {
          "output_type": "error",
          "ename": "SyntaxError",
          "evalue": "invalid syntax (chap4lib.py, line 7)",
          "traceback": [
            "Traceback \u001b[0;36m(most recent call last)\u001b[0m:\n",
            "  File \u001b[1;32m\"/usr/local/lib/python3.11/dist-packages/IPython/core/interactiveshell.py\"\u001b[0m, line \u001b[1;32m3553\u001b[0m, in \u001b[1;35mrun_code\u001b[0m\n    exec(code_obj, self.user_global_ns, self.user_ns)\n",
            "\u001b[0;36m  File \u001b[0;32m\"<ipython-input-10-eff111205a5f>\"\u001b[0;36m, line \u001b[0;32m1\u001b[0;36m, in \u001b[0;35m<cell line: 0>\u001b[0;36m\u001b[0m\n\u001b[0;31m    from chap4lib import *\u001b[0m\n",
            "\u001b[0;36m  File \u001b[0;32m\"/content/chap4lib.py\"\u001b[0;36m, line \u001b[0;32m7\u001b[0m\n\u001b[0;31m    class Exp3Alg[T]:\u001b[0m\n\u001b[0m                 ^\u001b[0m\n\u001b[0;31mSyntaxError\u001b[0m\u001b[0;31m:\u001b[0m invalid syntax\n"
          ]
        }
      ],
      "source": [
        "from chap4lib import *\n",
        "from typing import Callable, Any"
      ]
    },
    {
      "cell_type": "markdown",
      "id": "19c218be",
      "metadata": {
        "id": "19c218be"
      },
      "source": [
        "## A1."
      ]
    },
    {
      "cell_type": "markdown",
      "id": "ab10b37b",
      "metadata": {
        "id": "ab10b37b"
      },
      "source": [
        "### Background\n",
        "\n",
        "In our lectures (refer to `chap4.pdf`), we introduced the language $Lang_3$, which is a kernel imperative language. We discussed its syntax for expressions ($Exp_3$), definitions ($Def_3$), and commands ($Lang_3$). We also explored how to represent these constructs using Python classes and algebraic interfaces, as provided in `chap4lib.py`.\n",
        "\n",
        "The key components are:\n",
        "\n",
        "  * `Exp3Alg[ExpT]`: An algebra for building expressions. Its methods return objects of type `ExpT`.\n",
        "  * `Def3Alg[ExpT, CmdT, DefT]`: An algebra for building definitions. Its methods (like `let` and `proc`) take expressions (of type `ExpT`) and commands (of type `CmdT`) and return objects of type `DefT`.\n",
        "  * `Lang3Alg[ExpT, DefT, CmdT]`: An algebra for building commands. Its methods (like `assign`, `skip`, `seq`, `cond`, `loop`, `call_...`, `block`) take expressions (`ExpT`) and definitions (`DefT`) and return objects of type `CmdT`.\n",
        "\n",
        "### Your Task\n",
        "\n",
        "You are to implement Python functions with the given signatures. These functions will represent the given $Lang_3$ programs that define and calls a factorial procedure.\n",
        "\n",
        "\n"
      ]
    },
    {
      "cell_type": "markdown",
      "id": "b034b21b",
      "metadata": {
        "id": "b034b21b"
      },
      "source": [
        "### A1-1."
      ]
    },
    {
      "cell_type": "markdown",
      "id": "19347b82",
      "metadata": {
        "id": "19347b82"
      },
      "source": [
        "**The $Lang_3$ Program to Implement:**\n",
        "\n",
        "The program consists of an outer block that defines a procedure `factorial` and then calls it. The procedure itself uses an inner block and a `while` loop to compute the factorial.\n",
        "\n",
        "```text\n",
        "begin\n",
        "  proc factorial(n) {             // procedure\n",
        "    begin                         // block\n",
        "      let y = ↑(1);               // definition\n",
        "      while (not(↓n == 1)) do {   // command\n",
        "        y := ↓y * ↓n;\n",
        "        n := ↓n - 1\n",
        "      }\n",
        "    end\n",
        "  }\n",
        "  call factorial(↑3)              // Use lang.call_const() for call by value, constant\n",
        "end\n",
        "```"
      ]
    },
    {
      "cell_type": "code",
      "source": [
        "def call_fact_pgm_const[ExpT, DefT, CmdT](\n",
        "        exp: Exp3Alg[ExpT],\n",
        "        de: Def3Alg[ExpT, CmdT, DefT],\n",
        "        lang: Lang3Alg[ExpT, DefT, CmdT]\n",
        "    ) -> CmdT:\n",
        "    factorial_def = de.proc(\n",
        "        \"factorial\", \"n\",\n",
        "        lang.block(\n",
        "        [de.let(\"y\", exp.alloc(exp.cint(1)))],  # 定義リストのみをリスト内に\n",
        "        lang.loop(  # 第2引数: コマンドを単独で渡す\n",
        "            exp.not_(exp.eq(exp.deref(exp.var(\"n\")), exp.cint(1))),\n",
        "            lang.seq(\n",
        "                lang.assign(\"y\", exp.mult(exp.deref(exp.var(\"y\")), exp.deref(exp.var(\"n\")))),\n",
        "                lang.assign(\"n\", exp.minus(exp.deref(exp.var(\"n\")), exp.cint(1)))\n",
        "                )\n",
        "            )\n",
        "        )\n",
        "    )\n",
        "\n",
        "    return lang.block(\n",
        "        [factorial_def],\n",
        "        lang.call_const(\"factorial\", exp.alloc(exp.cint(3)))  # Correct format\n",
        "    )"
      ],
      "metadata": {
        "colab": {
          "base_uri": "https://localhost:8080/",
          "height": 106
        },
        "id": "E0TR657loqi-",
        "outputId": "24719800-aaf3-47ce-db48-8a180b2dbb89"
      },
      "id": "E0TR657loqi-",
      "execution_count": 1,
      "outputs": [
        {
          "output_type": "error",
          "ename": "SyntaxError",
          "evalue": "expected '(' (<ipython-input-1-b57b12171e25>, line 1)",
          "traceback": [
            "\u001b[0;36m  File \u001b[0;32m\"<ipython-input-1-b57b12171e25>\"\u001b[0;36m, line \u001b[0;32m1\u001b[0m\n\u001b[0;31m    def call_fact_pgm_const[ExpT, DefT, CmdT](\u001b[0m\n\u001b[0m                           ^\u001b[0m\n\u001b[0;31mSyntaxError\u001b[0m\u001b[0;31m:\u001b[0m expected '('\n"
          ]
        }
      ]
    },
    {
      "cell_type": "markdown",
      "id": "3fa7da45",
      "metadata": {
        "id": "3fa7da45"
      },
      "source": [
        "### A1-2."
      ]
    },
    {
      "cell_type": "markdown",
      "id": "aca4f140",
      "metadata": {
        "id": "aca4f140"
      },
      "source": [
        "**The $Lang_3$ Program to Implement:**\n",
        "\n",
        "The program consists of an outer block that defines a procedure `factorial` and then calls it. The procedure parameter `n` is handled using call-by-value, mutable semantics. This means `n` behaves as a local, mutable variable within `factorial`, initialized with the value passed in the call.\n",
        "\n",
        "```text\n",
        "begin\n",
        "  proc factorial(n) {             // procedure\n",
        "    begin                         // block\n",
        "      let y = ↑(1);               // definition\n",
        "      while (not(↓n == 1)) do {   // command\n",
        "        y := ↓y * ↓n;\n",
        "        n := ↓n - 1\n",
        "      }\n",
        "    end\n",
        "  }\n",
        "  call factorial(3)               // Use lang.call_mutable() for call by value, mutable\n",
        "end\n",
        "```"
      ]
    },
    {
      "cell_type": "code",
      "execution_count": null,
      "id": "038b6f82",
      "metadata": {
        "id": "038b6f82"
      },
      "outputs": [],
      "source": [
        "def call_fact_pgm_mutable[ExpT, DefT, CmdT](\n",
        "    exp: Exp3Alg[ExpT],\n",
        "    de: Def3Alg[ExpT, CmdT, DefT],\n",
        "    lang: Lang3Alg[ExpT, DefT, CmdT]) -> CmdT:\n",
        "    factorial_def = de.proc(\n",
        "        \"factorial\",\"n\",\n",
        "        lang.block(\n",
        "            [lang.let(\"y\",exp.alloc(exp.cint(1)))],\n",
        "            lang.loop(\n",
        "                exp.not_(exp.eq(exp.deref(exp.var(\"n\")),exp.cint(1))),\n",
        "                lang.seq(\n",
        "                    lang.assign(\"y\",exp.mult(exp.deref(exp.var(\"y\")),exp.deref(exp.var(\"n\")))),\n",
        "                    lang.assign(\"n\",exp.minus(exp.deref(exp.var(\"n\")),exp.cint(1)))\n",
        "                    )\n",
        "                )\n",
        "            )\n",
        "        )\n",
        "    return lang.block(\n",
        "        [factorial_def],\n",
        "        lang.call_const(\"factorial\", exp.alloc(exp.cint(3)))  # Correct format\n",
        "    )\n"
      ]
    },
    {
      "cell_type": "markdown",
      "id": "6048970c",
      "metadata": {
        "id": "6048970c"
      },
      "source": [
        "### A1-3."
      ]
    },
    {
      "cell_type": "markdown",
      "id": "baa37bfa",
      "metadata": {
        "id": "baa37bfa"
      },
      "source": [
        "**The $Lang_3$ Program to Implement:**\n",
        "\n",
        "The program consists of an outer block that defines the `factorial` procedure and a variable `x`. It then calls `factorial` passing `x` by reference.\n",
        "\n",
        "```text\n",
        "begin\n",
        "  proc factorial(n) {             // procedure\n",
        "    begin                         // block\n",
        "      let y = ↑(1);               // definition\n",
        "      while (not(↓n == 1)) do {   // command\n",
        "        y := ↓y * ↓n;\n",
        "        n := ↓n - 1\n",
        "      }\n",
        "    end\n",
        "  }\n",
        "  let x = ↑3;\n",
        "  call p(x)                       // Use lang.call_ref() for call by reference\n",
        "end\n",
        "```"
      ]
    },
    {
      "cell_type": "code",
      "execution_count": null,
      "id": "58445144",
      "metadata": {
        "id": "58445144"
      },
      "outputs": [],
      "source": [
        "def call_fact_pgm_ref[ExpT, DefT, CmdT](\n",
        "    exp: Exp3Alg[ExpT],\n",
        "    de: Def3Alg[ExpT, CmdT, DefT],\n",
        "    lang: Lang3Alg[ExpT, DefT, CmdT]\n",
        ") -> CmdT:\n",
        "    # --- YOUR IMPLEMENTATION GOES HERE ---\n",
        "    pass"
      ]
    },
    {
      "cell_type": "markdown",
      "id": "e1fbec71",
      "metadata": {
        "id": "e1fbec71"
      },
      "source": [
        "## A2."
      ]
    },
    {
      "cell_type": "markdown",
      "id": "8737cdee",
      "metadata": {
        "id": "8737cdee"
      },
      "source": [
        "This assignment requires you to implement key components of an interpreter for $Lang_3$, an imperative language with explicit memory management, definitions, and procedures. You will be working with an algebraic approach, implementing Python classes that define the semantics for expressions ($Exp_3$), definitions ($Def_3$), and the language commands ($Lang_3$) themselves.\n",
        "\n",
        "The primary objectives are:\n",
        "* To understand and implement the evaluation semantics for expressions, including those with side effects (memory allocation).\n",
        "* To implement the semantics for definitions, including procedure definitions with static (lexical) scoping.\n",
        "* To implement the big-step operational semantics for language commands, including assignments, control flow, blocks, and procedure calls (call-by-value constant, call-by-value mutable, and call-by-reference) using static scope.\n",
        "* To gain practical experience with functional approaches to interpreter writing in Python, using higher-order functions to represent computations.\n",
        "\n",
        "You **must** use the interfaces and data structures provided in `chap4lib.py`.\n",
        "\n",
        "### Core Types for Evaluation Functions\n",
        "\n",
        "Your implementations will revolve around functions that take the current state `(EnvType, MemType)` and return new states or values. The key evaluation function types (as seen in the slides [cite: 34, 46, 81]) are:\n",
        "\n",
        "* `EvalResultType = Callable[[StateType], tuple[Value, MemType]]`: For evaluating expressions in $Exp_3$. It takes a state and returns the resulting `Value` and the (potentially modified) `MemType`.\n",
        "* `EvalDefResultType = Callable[[StateType], StateType]`: For evaluating definitions in $Def_3$. It takes a state and returns a new state `(EnvType, MemType)` reflecting the new bindings.\n",
        "* `EvalCmdResultType = Callable[[StateType], MemType]`: For executing commands in $Lang_3$. It takes a state `(EnvType, MemType)` and returns the final `MemType` after the command's execution.\n",
        "\n",
        "### Tasks\n",
        "\n",
        "You need to define and implement the following three Python classes:\n",
        "\n",
        "\n",
        "#### Task 1: Implement `Exp3Eval`\n",
        "\n",
        "This class implements the `Exp3Alg` interface and defines the evaluation semantics for $Exp_3$ expressions."
      ]
    },
    {
      "cell_type": "code",
      "execution_count": null,
      "id": "9f200879",
      "metadata": {
        "id": "9f200879"
      },
      "outputs": [],
      "source": []
    },
    {
      "cell_type": "markdown",
      "id": "04ac3338",
      "metadata": {
        "id": "04ac3338"
      },
      "source": [
        "#### Task 2: Implement `Def3Eval`\n",
        "\n",
        "This class implements the `Def3Alg` interface and defines the semantics for $Def_3$ definitions.\n",
        "\n",
        "**Hint for `proc` closure:** A procedure value (closure for static scope) should store `(parameter_name, body_command, definition_environment)`. You can define a simple class `VProc(Value)` to encapsulate this tuple or store the tuple directly in the environment. Ensure that this value can be retrieved and correctly interpreted during procedure calls."
      ]
    },
    {
      "cell_type": "code",
      "execution_count": null,
      "id": "5f7a101a",
      "metadata": {
        "id": "5f7a101a"
      },
      "outputs": [],
      "source": []
    },
    {
      "cell_type": "markdown",
      "id": "af0545d7",
      "metadata": {
        "id": "af0545d7"
      },
      "source": [
        "#### Task 3: Implement `Lang3EvalSS` (Static Scoping)\n",
        "\n",
        "This class implements the `Lang3Alg` interface and defines the big-step operational semantics for $Lang_3$ commands, incorporating **static scoping** for procedures.\n"
      ]
    },
    {
      "cell_type": "code",
      "execution_count": null,
      "id": "cb8cb09b",
      "metadata": {
        "id": "cb8cb09b"
      },
      "outputs": [],
      "source": []
    },
    {
      "cell_type": "markdown",
      "id": "8aa662d3",
      "metadata": {
        "id": "8aa662d3"
      },
      "source": [
        "## A3."
      ]
    },
    {
      "cell_type": "markdown",
      "id": "ad3ee27d",
      "metadata": {
        "id": "ad3ee27d"
      },
      "source": [
        "This assignment builds upon your understanding of $Lang_3$ by requiring you to implement its **small-step operational semantics**. Unlike big-step semantics which define the overall result of a command, small-step semantics describe how commands execute one step at a time. This approach is crucial for understanding more complex language features like concurrency and for a finer-grained view of program execution.\n",
        "\n",
        "You will define Python classes to represent $Lang_3$ commands. Each command class will encapsulate its own single-step execution logic via a `step` method. This approach uses polymorphism to avoid large conditional statements for different command types.\n",
        "\n",
        "You will focus on the core commands: assignment, skip, sequence, conditional, and loop. **Procedure calls and blocks are excluded from this assignment** as their small-step semantics were not covered in detail in the lecture slides.\n",
        "\n",
        "The primary objectives are:\n",
        "* To understand and implement small-step operational semantics.\n",
        "* To represent program syntax as data structures (command objects) with associated behavior (step methods).\n",
        "* To implement state transition logic within each command class based on formal semantic rules.\n",
        "\n",
        "### Core Concepts for Small-Step Semantics\n",
        "\n",
        "* **Configuration:** A configuration is a pair `⟨c, Mem⟩`, where `c` is the command (or part of a command) remaining to be executed, and `Mem` is the current memory state.\n",
        "* **Transition Relation (`↪_Env`):** Describes a single step of computation: `⟨c₁, Mem₁⟩ ↪_Env ⟨c₂, Mem₂⟩`.\n",
        "* **Terminal Configuration:** Execution stops when a command `c` in state `(Env, Mem)` has no further steps. For this assignment, a command sequence terminates when it reduces to a single `skip` command in a configuration `⟨skip, Mem⟩`.\n",
        "\n",
        "### 4. Tasks\n",
        "\n",
        "#### Step 1: Command Representation (`SmallStepCmd`) with `step` Methods\n",
        "\n",
        "First, you need to define Python classes to represent the $Lang_3$ commands. Each class will now also include a `step` method that defines how an instance of that command takes a single execution step.\n",
        "\n",
        "Define the following classes. We'll use `SmallStepCmdType` as a type hint for these command objects. You should also define your `Exp3Eval` class from the previous assignment or ensure it's available, as its `EvalResultType` is needed.\n",
        "\n",
        "```python\n",
        "class SmallStepCmd: # base class\n",
        "    def step(self,\n",
        "             env: EnvType,\n",
        "             current_mem: MemType,\n",
        "             exp_eval_instance: Exp3Eval # Use forward reference or import\n",
        "            ) -> Tuple[SmallStepCmd, MemType]:\n",
        "        \"\"\"Abstract method for performing one step of execution.\"\"\"\n",
        "        raise NotImplementedError\n",
        "    # Consider adding __repr__ for debugging all command classes\n",
        "\n",
        "class AssignCmd(SmallStepCmd):\n",
        "    def __init__(self, var_name: str, expr_eval_func: 'EvalResultType'):\n",
        "        self.var_name = var_name\n",
        "        self.expr_eval_func = expr_eval_func\n",
        "\n",
        "    def step(self, env: EnvType, current_mem: MemType, exp_eval_instance: Exp3Eval) -> Tuple[SmallStepCmd, MemType]:\n",
        "        # Implements Rule S1 (see Part 3 for details)\n",
        "        raise NotImplementedError # To be implemented by student\n",
        "\n",
        "class SkipCmd(SmallStepCmd):\n",
        "    def __init__(self):\n",
        "        pass # No specific data for SkipCmd\n",
        "\n",
        "    def step(self, env: EnvType, current_mem: MemType, exp_eval_instance: Exp3Eval) -> Tuple[SmallStepCmd, MemType]:\n",
        "        # A SkipCmd is already in a \"reduced\" form.\n",
        "        # It doesn't take a further step to a different command.\n",
        "        # The interpreter loop (Part 4) will identify SkipCmd as a terminal state.\n",
        "        return (self, current_mem)\n",
        "\n",
        "class SeqCmd(SmallStepCmd):\n",
        "    def __init__(self, cmd1: SmallStepCmd, cmd2: SmallStepCmd):\n",
        "        self.cmd1 = cmd1\n",
        "        self.cmd2 = cmd2\n",
        "\n",
        "    def step(self, env: EnvType, current_mem: MemType, exp_eval_instance: Exp3Eval) -> Tuple[SmallStepCmd, MemType]:\n",
        "        # Implements Rules S2 and S3 (see Part 3 for details)\n",
        "        raise NotImplementedError # To be implemented by student\n",
        "\n",
        "class CondCmd(SmallStepCmd):\n",
        "    def __init__(self, cond_expr_eval_func: 'EvalResultType', then_cmd: SmallStepCmd, else_cmd: SmallStepCmd):\n",
        "        self.cond_expr_eval_func = cond_expr_eval_func\n",
        "        self.then_cmd = then_cmd\n",
        "        self.else_cmd = else_cmd\n",
        "\n",
        "    def step(self, env: EnvType, current_mem: MemType, exp_eval_instance: Exp3Eval) -> Tuple[SmallStepCmd, MemType]:\n",
        "        # Implements Rules S4 and S5 (see Part 3 for details)\n",
        "        raise NotImplementedError # To be implemented by student\n",
        "\n",
        "class LoopCmd(SmallStepCmd):\n",
        "    def __init__(self, cond_expr_eval_func: 'EvalResultType', body_cmd: SmallStepCmd):\n",
        "        self.cond_expr_eval_func = cond_expr_eval_func\n",
        "        self.body_cmd = body_cmd\n",
        "\n",
        "    def step(self, env: EnvType, current_mem: MemType, exp_eval_instance: Exp3Eval) -> Tuple[SmallStepCmd, MemType]:\n",
        "        # Implements Rules S6 and S7 (see Part 3 for details)\n",
        "        raise NotImplementedError # To be implemented by student\n",
        "```\n",
        "*(Ensure `EvalResultType` and `Exp3Eval` are correctly defined and imported based on your project structure. `chap4lib.py` provides `EnvType`, `MemType`, `Value`. Your `Exp3Eval` solution from the previous assignment provides `EvalResultType`.)*\n",
        "\n",
        "#### Step 2: Implementing `Lang3EvalSmall`\n",
        "\n",
        "Next, implement the `Lang3EvalSmall` class. This class will implement the `Lang3Alg` interface. Its methods will **construct and return instances of your command representation classes** from Part 1.\n",
        "\n",
        "* `Lang3EvalSmall` should implement `Lang3Alg[EvalResultType, typing.Any, SmallStepCmdType]`.\n",
        "    * `ExpT` is `EvalResultType`.\n",
        "    * `DefT` can be `typing.Any` as `block` (which uses definitions) is not part of this assignment's small-step implementation.\n",
        "    * `T` (the return type of command construction methods) will be `SmallStepCmdType`.\n",
        "\n",
        "**Implementation Details:**\n",
        "* `assign(self, x: str, e: EvalResultType) -> SmallStepCmdType`: Returns an `AssignCmd(x, e)` instance.\n",
        "* `skip(self) -> SmallStepCmdType`: Returns a `SkipCmd()` instance.\n",
        "* `seq(self, c1: SmallStepCmdType, c2: SmallStepCmdType) -> SmallStepCmdType`: Returns a `SeqCmd(c1, c2)` instance.\n",
        "* `cond(self, e: EvalResultType, c1: SmallStepCmdType, c2: SmallStepCmdType) -> SmallStepCmdType`: Returns a `CondCmd(e, c1, c2)` instance.\n",
        "* `loop(self, e: EvalResultType, c: SmallStepCmdType) -> SmallStepCmdType`: Returns a `LoopCmd(e, c)` instance.\n",
        "* **Excluded Methods:** The methods `block`, `call_const`, `call_mutable`, and `call_ref` **should raise `NotImplementedError`**.\n",
        "\n",
        "#### Step 3: Implementing `step` Methods in Command Classes\n",
        "\n",
        "This is the core of the small-step interpreter. Each command class you defined in Part 1 (`AssignCmd`, `SeqCmd`, `CondCmd`, `LoopCmd`) must implement its own `step` method. The `SkipCmd.step` method is trivial as it represents a completed step.\n",
        "\n",
        "**Method Signature (to be implemented in each relevant command class):**\n",
        "```python\n",
        "# Inside each of your command classes (AssignCmd, SeqCmd, CondCmd, LoopCmd)\n",
        "def step(self,\n",
        "         env: EnvType,\n",
        "         current_mem: MemType,\n",
        "         exp_eval_instance: Exp3Eval # Your working Exp3Eval instance\n",
        "        ) -> Tuple[SmallStepCmd, MemType]: # Return type uses forward reference\n",
        "    # ... implementation specific to this command type based on S1-S7 ...\n",
        "```"
      ]
    },
    {
      "cell_type": "code",
      "execution_count": null,
      "id": "0763d42f",
      "metadata": {
        "id": "0763d42f"
      },
      "outputs": [],
      "source": []
    },
    {
      "cell_type": "markdown",
      "id": "9f9bf478",
      "metadata": {
        "id": "9f9bf478"
      },
      "source": []
    }
  ],
  "metadata": {
    "kernelspec": {
      "display_name": ".venv",
      "language": "python",
      "name": "python3"
    },
    "language_info": {
      "codemirror_mode": {
        "name": "ipython",
        "version": 3
      },
      "file_extension": ".py",
      "mimetype": "text/x-python",
      "name": "python",
      "nbconvert_exporter": "python",
      "pygments_lexer": "ipython3",
      "version": "3.13.3"
    },
    "colab": {
      "provenance": []
    }
  },
  "nbformat": 4,
  "nbformat_minor": 5
}